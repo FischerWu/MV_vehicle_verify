{
 "cells": [
  {
   "cell_type": "code",
   "execution_count": null,
   "id": "d99e4af4-8f21-4a34-91b2-eac60fd9e5d3",
   "metadata": {},
   "outputs": [],
   "source": [
    "import cv2\n",
    "# import Libraries\n",
    "import tensorflow as tf\n",
    "import numpy as np\n",
    "from keras.preprocessing.image import ImageDataGenerator\n",
    "import matplotlib.pyplot as plt\n",
    "from keras.models import Sequential, Model\n",
    "from keras.layers import Conv2D, MaxPooling2D, Flatten, Dense, Reshape, GlobalAveragePooling2D, multiply, Lambda, Dropout,BatchNormalization, Attention\n",
    "from keras.callbacks import EarlyStopping\n",
    "import keras.backend as K\n",
    "from keras.initializers import he_normal"
   ]
  },
  {
   "cell_type": "code",
   "execution_count": null,
   "outputs": [],
   "source": [
    "# Define paths\n",
    "train_dir = 'D:/deep_space/MV/Dataset_split/Train'\n",
    "test_dir = 'D:/deep_space/MV/Dataset_split/Test'"
   ],
   "metadata": {
    "collapsed": false
   },
   "id": "7e94d8b8e978d4d0"
  },
  {
   "cell_type": "code",
   "execution_count": null,
   "outputs": [],
   "source": [
    "# Load and preprocess the training data\n",
    "input_shape = (256, 256, 3)\n",
    "batch_size=8\n",
    "\n",
    "# Load and preprocess the test data\n",
    "train_datagen = ImageDataGenerator(rescale=1.0/255,\n",
    "                                   zoom_range=[0.64, 1.0],\n",
    "                                   width_shift_range=0.2,  \n",
    "                                   height_shift_range=0.2,\n",
    "                                   horizontal_flip=True,\n",
    "                                   validation_split=0.177)\n",
    "\n",
    "'''\n",
    "rotation_range=20,  # 随机旋转图像（0-180度之间）\n",
    "                                   width_shift_range=0.2,  # 随机水平平移图像\n",
    "                                   height_shift_range=0.2,  # 随机垂直平移图像\n",
    "                                   shear_range=0.2,  # 随机错切变换\n",
    "                                   zoom_range=0.2,  # 随机缩放图像\n",
    "                                   horizontal_flip=True,  # 随机水平翻转图像\n",
    "                                   fill_mode='nearest',  # 用于填充新创建像素的方法\n",
    "                                   brightness_range=[0.5, 1.5],\n",
    "\n",
    "'''\n",
    "\n",
    "                                   \n",
    "\n",
    "\n",
    "train_generator = train_datagen.flow_from_directory(\n",
    "    train_dir,\n",
    "    target_size=(256, 256),\n",
    "    batch_size=16,\n",
    "    class_mode='categorical',\n",
    "    color_mode='rgb',\n",
    "    subset='training'\n",
    ")\n",
    "\n",
    "val_generator = train_datagen.flow_from_directory(\n",
    "    train_dir,\n",
    "    target_size=(256, 256),\n",
    "    batch_size=16,\n",
    "    class_mode='categorical',\n",
    "    color_mode='rgb',\n",
    "    subset='validation'\n",
    ")\n"
   ],
   "metadata": {
    "collapsed": false
   },
   "id": "e308b6d7e37db0f0"
  },
  {
   "cell_type": "code",
   "execution_count": null,
   "outputs": [],
   "source": [
    "# Load and preprocess the test data\n",
    "test_datagen = ImageDataGenerator(rescale=1.0/255)\n",
    "test_generator = test_datagen.flow_from_directory(\n",
    "    test_dir,\n",
    "    target_size=(256, 256),\n",
    "    batch_size=16,\n",
    "    class_mode='categorical',\n",
    "    color_mode='rgb'\n",
    ")"
   ],
   "metadata": {
    "collapsed": false
   },
   "id": "5d73828aa61c51a9"
  },
  {
   "cell_type": "code",
   "execution_count": null,
   "outputs": [],
   "source": [
    "# get img from generator\n",
    "images, labels = next(train_generator)\n",
    "\n",
    "# show the img\n",
    "fig, axes = plt.subplots(1, batch_size, figsize=(15, 5))\n",
    "for i in range(batch_size):\n",
    "    axes[i].imshow(images[i])\n",
    "    axes[i].set_title(f'Label: {np.argmax(labels[i])}')  # show label\n",
    "    axes[i].axis('off')\n",
    "plt.show()"
   ],
   "metadata": {
    "collapsed": false
   },
   "id": "a912674dda14e70b"
  },
  {
   "cell_type": "code",
   "execution_count": null,
   "outputs": [],
   "source": [
    "from keras.layers import Add, Activation\n",
    "\n",
    "\n",
    "def residual_block(inputs, num_channels, use_1x1conv=True, strides=1):\n",
    "    # Convolutional layer 1\n",
    "    x = Conv2D(num_channels, (3, 3), padding='same', activation='relu', kernel_initializer='he_normal')(inputs)\n",
    "    x = Conv2D(num_channels, (3, 3), padding='same', strides=2, activation='relu', kernel_initializer='he_normal')(x)\n",
    "    x = BatchNormalization()(x)\n",
    "    \n",
    "    # Shortcut connection (identity mapping)\n",
    "    if use_1x1conv:\n",
    "        shortcut = MaxPooling2D(pool_size=(2,2 ), strides=(2, 2))(inputs)\n",
    "        shortcut = BatchNormalization()(shortcut)\n",
    "    else:\n",
    "        shortcut = inputs\n",
    "        \n",
    "        # shortcut = MaxPooling2D(pool_size=(2,2 ), strides=(2, 2))(shortcut)\n",
    "    \n",
    "    # Element-wise addition\n",
    "    x = Add()([x, shortcut])\n",
    "    x = Activation('relu')(x)\n",
    "    \n",
    "    return x"
   ],
   "metadata": {
    "collapsed": false
   },
   "id": "c9327b9323445b8e"
  },
  {
   "cell_type": "code",
   "execution_count": null,
   "outputs": [],
   "source": [
    "\n",
    "from keras import Input\n",
    "\n",
    "\n",
    "def baseModel():\n",
    "    input_tensor = Input(shape=input_shape)\n",
    "    \n",
    "    x = Conv2D(64, (3, 3), activation='relu', kernel_initializer='he_normal')(input_tensor)\n",
    "    x = residual_block(x, 64)\n",
    "    \n",
    "    x = residual_block(x, 128)\n",
    "    \n",
    "    x = residual_block(x, 128)\n",
    "    \n",
    "    x = residual_block(x, 256)\n",
    "    \n",
    "    x = Flatten()(x)\n",
    "    \n",
    "    x = Dense(1024, activation='relu')(x)\n",
    "    x = Dropout(0.2)(x)\n",
    "    \n",
    "    # Uncomment the following lines if you want to include attention layer\n",
    "    # attention = Attention()([x, x])\n",
    "    # merged = tf.keras.layers.Concatenate(axis=-1)([x, attention])\n",
    "    \n",
    "    x = Dense(4, activation='softmax')(x)\n",
    "    \n",
    "    model = Model(inputs=input_tensor, outputs=x)\n",
    "    return model\n",
    "\n"
   ],
   "metadata": {
    "collapsed": false
   },
   "id": "9be586ff09158755"
  },
  {
   "cell_type": "code",
   "execution_count": null,
   "outputs": [],
   "source": [
    "model = baseModel()"
   ],
   "metadata": {
    "collapsed": false
   },
   "id": "38b7afe741b47f6c"
  },
  {
   "cell_type": "code",
   "execution_count": null,
   "outputs": [],
   "source": [
    "\n",
    "\n"
   ],
   "metadata": {
    "collapsed": false
   },
   "id": "bacfd419db0f81e6"
  },
  {
   "cell_type": "code",
   "execution_count": null,
   "outputs": [],
   "source": [
    "\n"
   ],
   "metadata": {
    "collapsed": false
   },
   "id": "cf539e36fabd101d"
  },
  {
   "cell_type": "code",
   "execution_count": null,
   "outputs": [],
   "source": [
    "# model = base_model(input_shape)"
   ],
   "metadata": {
    "collapsed": false
   },
   "id": "417f8d9d13857987"
  },
  {
   "cell_type": "markdown",
   "source": [],
   "metadata": {
    "collapsed": false
   },
   "id": "3bb4b2d2b3c6a73d"
  },
  {
   "cell_type": "code",
   "execution_count": null,
   "outputs": [],
   "source": [
    "#computing attention weights. Each element in the input tensor x will be assigned a weight by this dense layer\n",
    "# attention = Dense(1, activation='tanh')(x)"
   ],
   "metadata": {
    "collapsed": false
   },
   "id": "569784436da9ab38"
  },
  {
   "cell_type": "code",
   "execution_count": null,
   "outputs": [],
   "source": [
    "# Reshape attention to have dimensions (-1, 1, 1)\n",
    "# attention = Reshape((-1, 1, 1))(attention)"
   ],
   "metadata": {
    "collapsed": false
   },
   "id": "7376552d7ab54208"
  },
  {
   "cell_type": "code",
   "execution_count": null,
   "outputs": [],
   "source": [
    "# Apply the attention weights element-wise to the original feature representation (x) \n",
    "# attention = multiply([x, attention])"
   ],
   "metadata": {
    "collapsed": false
   },
   "id": "18bd84bb5329e722"
  },
  {
   "cell_type": "code",
   "execution_count": null,
   "outputs": [],
   "source": [
    "# The attention weights are summed along the channel axis (-2) to produces a single attention value \n",
    "# attention = Lambda(lambda x: K.sum(x, axis=-2))(attention)"
   ],
   "metadata": {
    "collapsed": false
   },
   "id": "8f7cacad7edebd5a"
  },
  {
   "cell_type": "code",
   "execution_count": null,
   "outputs": [],
   "source": [
    "# The attention values are expanded along a new axis (-1)\n",
    "# attention = Lambda(lambda x: K.expand_dims(x, axis=-1))(attention)"
   ],
   "metadata": {
    "collapsed": false
   },
   "id": "76bb0c22a16ca8b1"
  },
  {
   "cell_type": "code",
   "execution_count": null,
   "outputs": [],
   "source": [
    "# computes the average of all the values along each channel\n",
    "# attention = GlobalAveragePooling2D()(attention)"
   ],
   "metadata": {
    "collapsed": false
   },
   "id": "e9c0dc56f501f0c"
  },
  {
   "cell_type": "code",
   "execution_count": null,
   "outputs": [],
   "source": [
    "# merged = Dense(4, activation='softmax')(attention)"
   ],
   "metadata": {
    "collapsed": false
   },
   "id": "deb46447216e1177"
  },
  {
   "cell_type": "code",
   "execution_count": null,
   "outputs": [],
   "source": [
    "# Create the new model\n",
    "# model = Model(inputs=base_model.input, outputs=merged)\n",
    "# model = Model(inputs=base_model.input, outputs=output)"
   ],
   "metadata": {
    "collapsed": false
   },
   "id": "9c37592a2273bd7f"
  },
  {
   "cell_type": "code",
   "execution_count": null,
   "outputs": [],
   "source": [
    "# Display the model summary\n",
    "model.summary()"
   ],
   "metadata": {
    "collapsed": false
   },
   "id": "7176a4317acbd8d3"
  },
  {
   "cell_type": "code",
   "execution_count": null,
   "outputs": [],
   "source": [
    "# Compile the model\n",
    "model.compile(optimizer='sgd', \n",
    "              loss='categorical_crossentropy', \n",
    "              metrics=['accuracy']\n",
    "              )"
   ],
   "metadata": {
    "collapsed": false
   },
   "id": "d65f7f9d65fe64f"
  },
  {
   "cell_type": "code",
   "execution_count": null,
   "outputs": [],
   "source": [],
   "metadata": {
    "collapsed": false
   },
   "id": "fd80e3a6f3530443"
  },
  {
   "cell_type": "code",
   "execution_count": null,
   "outputs": [],
   "source": [
    "# Train the model\n",
    "history = model.fit(train_generator, validation_data=(val_generator), epochs=40)"
   ],
   "metadata": {
    "collapsed": false
   },
   "id": "870eaf7686807734"
  },
  {
   "cell_type": "code",
   "execution_count": null,
   "outputs": [],
   "source": [
    "# Evaluate the model on the test set\n",
    "test_loss, test_accuracy = model.evaluate(train_generator)\n",
    "print('Test Accuracy:',test_accuracy)\n",
    "print('Test loss:',test_loss )"
   ],
   "metadata": {
    "collapsed": false
   },
   "id": "320ee57694a0f8c2"
  },
  {
   "cell_type": "code",
   "execution_count": null,
   "outputs": [],
   "source": [
    "test_loss, test_accuracy = model.evaluate(val_generator)\n",
    "print('Test Accuracy:',test_accuracy)\n",
    "print('Test loss:',test_loss )"
   ],
   "metadata": {
    "collapsed": false
   },
   "id": "5f0f81684080a3c6"
  },
  {
   "cell_type": "code",
   "execution_count": null,
   "outputs": [],
   "source": [
    "plt.plot(history.history['accuracy'], label='accuracy')\n",
    "plt.plot(history.history['val_accuracy'], label='val_accuracy')\n",
    "plt.legend()\n",
    "plt.show()"
   ],
   "metadata": {
    "collapsed": false
   },
   "id": "835ec67f2a2be632"
  },
  {
   "cell_type": "code",
   "execution_count": null,
   "outputs": [],
   "source": [
    "plt.plot(history.history['loss'], label='loss')\n",
    "plt.plot(history.history['val_loss'], label='val_loss')\n",
    "plt.legend()\n",
    "plt.show()"
   ],
   "metadata": {
    "collapsed": false
   },
   "id": "c693c98dcb43f1a6"
  },
  {
   "cell_type": "code",
   "execution_count": null,
   "outputs": [],
   "source": [],
   "metadata": {
    "collapsed": false
   },
   "id": "1bfc00ec7d8ebbc2"
  }
 ],
 "metadata": {
  "kernelspec": {
   "display_name": "Python 3 (ipykernel)",
   "language": "python",
   "name": "python3"
  },
  "language_info": {
   "codemirror_mode": {
    "name": "ipython",
    "version": 3
   },
   "file_extension": ".py",
   "mimetype": "text/x-python",
   "name": "python",
   "nbconvert_exporter": "python",
   "pygments_lexer": "ipython3",
   "version": "3.9.18"
  }
 },
 "nbformat": 4,
 "nbformat_minor": 5
}
